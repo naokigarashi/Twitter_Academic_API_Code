{
 "cells": [
  {
   "cell_type": "code",
   "execution_count": 6,
   "metadata": {},
   "outputs": [],
   "source": [
    "import requests\n",
    "import os\n",
    "import csv\n",
    "import pickle"
   ]
  },
  {
   "cell_type": "code",
   "execution_count": 7,
   "metadata": {},
   "outputs": [],
   "source": [
    "def create_url(usernames, user_fields):\n",
    "\n",
    "    formatted_user_names = \"usernames=\" + \",\".join(usernames)#usernamesはリスト型\n",
    "    formatted_user_fields = \"user.fields=\" + \",\".join(user_fields)\n",
    "    \n",
    "    url = \"https://api.twitter.com/2/users/by?{}&{}\".format(formatted_user_names, formatted_user_fields)\n",
    "    return url\n",
    "\n",
    "def create_headers(bearer_token):\n",
    "    headers = {\"Authorization\": \"Bearer {}\".format(bearer_token)}\n",
    "    return headers\n",
    "\n",
    "def connect_to_endpoint(url, headers):\n",
    "    response = requests.request(\"GET\", url, headers=headers)\n",
    "    if response.status_code != 200: #コードが200以外ならエラー\n",
    "        raise Exception(\"Request returned an error: {} {}\".format(response.status_code, response.text))\n",
    "    return response.json()\n",
    "    \n",
    "def main(usernames, path):#プロフィール情報を取得＆pickleデータに保存 \n",
    "    \n",
    "    #user_fieldsに欲しい情報を書く\n",
    "    #id: ユーザーID「4790312834」,name: ユーザー名「KEN」,username:ユーザー名「@～～」, created at: アカウント作成時間\n",
    "    #protected: 鍵アカウントかどうか, location: 地域, description:自己紹介, verified:公式アカウントかどうか\n",
    "    #profilel image url:プロフィール画像, public metrics:フォロー数フォロワー数、ツイート数, pinned tweet id:固定ツイートのツイートID\n",
    "    user_fields = [\"username\", \"location\"]\n",
    "\n",
    "    #データ取得\n",
    "    url = create_url(usernames, user_fields)\n",
    "    headers = create_headers(BEARER_TOKEN)\n",
    "    json_response = connect_to_endpoint(url, headers)\n",
    "    \n",
    "    user_location_dict={}\n",
    "    for data in json_response[\"data\"]:\n",
    "        \n",
    "        if 'location' in data:#locactionが取得できたユーザーの場合\n",
    "            user_location_dict[\"@\"+data['username']]=data['location']\n",
    "        else:#locationに何も記載がなく取得できないユーザーの場合\n",
    "            user_location_dict[\"@\"+data['username']]=None\n",
    "        \n",
    "    #pickleデータに保存\n",
    "    with open(path, mode='wb') as f:\n",
    "        pickle.dump(user_location_dict,f)"
   ]
  },
  {
   "cell_type": "markdown",
   "metadata": {},
   "source": [
    "### パラメータを調節して実行 ###"
   ]
  },
  {
   "cell_type": "code",
   "execution_count": 10,
   "metadata": {},
   "outputs": [],
   "source": [
    "#自分のbearerトークン\n",
    "BEARER_TOKEN = '######'\n",
    "\n",
    "#知りたいユーザー名(@を除いて)をリスト形式で用意\n",
    "usernames=[\"ariyoshihiroiki\",\"pamyurin\",\"RolaWorLD\",\"takapon_jp\",\"hentaimimura\",\"atsushilonboo\",\"BoAkwon\",\"utadahikaru\",\"ystk_yrk\"]\n",
    "\n",
    "#保存するpickleファイル名\n",
    "path=\"user_location.pickle\"\n",
    "\n",
    "#main関数を実行して辞書形式でユーザー名:場所を取得\n",
    "main(usernames, path)"
   ]
  },
  {
   "cell_type": "code",
   "execution_count": 9,
   "metadata": {},
   "outputs": [
    {
     "data": {
      "text/plain": [
       "{'@ariyoshihiroiki': '日本',\n",
       " '@pamyurin': None,\n",
       " '@RolaWorLD': None,\n",
       " '@takapon_jp': 'Tokyo',\n",
       " '@hentaimimura': None,\n",
       " '@atsushilonboo': '東京 豊島区',\n",
       " '@BoAkwon': 'In this world ',\n",
       " '@utadahikaru': None,\n",
       " '@ystk_yrk': '東京'}"
      ]
     },
     "execution_count": 9,
     "metadata": {},
     "output_type": "execute_result"
    }
   ],
   "source": [
    "#保存したファイルを開く(dataに辞書形式で格納)\n",
    "with open(path, mode='rb') as f:\n",
    "    data = pickle.load(f)\n",
    "data        "
   ]
  },
  {
   "cell_type": "code",
   "execution_count": null,
   "metadata": {},
   "outputs": [],
   "source": []
  }
 ],
 "metadata": {
  "kernelspec": {
   "display_name": "Python 3",
   "language": "python",
   "name": "python3"
  },
  "language_info": {
   "codemirror_mode": {
    "name": "ipython",
    "version": 3
   },
   "file_extension": ".py",
   "mimetype": "text/x-python",
   "name": "python",
   "nbconvert_exporter": "python",
   "pygments_lexer": "ipython3",
   "version": "3.8.5"
  }
 },
 "nbformat": 4,
 "nbformat_minor": 4
}
